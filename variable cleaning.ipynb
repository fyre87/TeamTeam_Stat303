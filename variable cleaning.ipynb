{
 "cells": [
  {
   "cell_type": "code",
   "execution_count": 68,
   "id": "fb205b74",
   "metadata": {},
   "outputs": [],
   "source": [
    "import pandas as pd\n",
    "import numpy as np"
   ]
  },
  {
   "cell_type": "code",
   "execution_count": null,
   "id": "c2bc8609",
   "metadata": {},
   "outputs": [],
   "source": [
    "data_all = pd.read_csv('2015.csv')"
   ]
  },
  {
   "cell_type": "code",
   "execution_count": 62,
   "id": "72e61188",
   "metadata": {},
   "outputs": [],
   "source": [
    "selected = ['SCNTMNY1', 'SCNTMEL1','SCNTWRK1','SXORIENT','TRNSGNDR','EMTSUPRT', 'LSATISFY', 'ADPLEASR', 'ADSLEEP', 'ADENERGY', 'ADEAT1','ADFAIL','ADTHINK','MISTMNT','ADANXEV']\n",
    "selected_data = data_all[selected]\n",
    "data = selected_data.copy()"
   ]
  },
  {
   "cell_type": "code",
   "execution_count": 63,
   "id": "e06ac141",
   "metadata": {
    "scrolled": true
   },
   "outputs": [
    {
     "data": {
      "text/plain": [
       "5.0    37535\n",
       "4.0    11215\n",
       "3.0    10500\n",
       "1.0     6106\n",
       "2.0     2840\n",
       "8.0     1047\n",
       "9.0      138\n",
       "7.0      121\n",
       "Name: SCNTMNY1, dtype: int64"
      ]
     },
     "execution_count": 63,
     "metadata": {},
     "output_type": "execute_result"
    }
   ],
   "source": [
    "data['SCNTMNY1'].value_counts()"
   ]
  },
  {
   "cell_type": "code",
   "execution_count": 73,
   "id": "7811ff52",
   "metadata": {},
   "outputs": [
    {
     "data": {
      "text/plain": [
       "Sometimes    59250\n",
       "Always        6106\n",
       "Usually       2840\n",
       "Name: SCNTMNY1, dtype: int64"
      ]
     },
     "execution_count": 73,
     "metadata": {},
     "output_type": "execute_result"
    }
   ],
   "source": [
    "values = {1: 'Always', \n",
    "          2: 'Usually',\n",
    "          3: 'Sometimes',\n",
    "          4: 'Rarely',\n",
    "          5: 'Never',\n",
    "          7: np.nan,\n",
    "          8: np.nan,\n",
    "          9: np.nan\n",
    "         }\n",
    "\n",
    "data['SCNTMNY1'] = data['SCNTMNY1'].replace(values)\n",
    "data['SCNTMNY1'].value_counts()"
   ]
  },
  {
   "cell_type": "code",
   "execution_count": 15,
   "id": "4aa091f1",
   "metadata": {
    "scrolled": true
   },
   "outputs": [
    {
     "data": {
      "text/plain": [
       "5.0    48822\n",
       "4.0     8850\n",
       "3.0     8807\n",
       "1.0     4121\n",
       "2.0     2442\n",
       "9.0      124\n",
       "7.0      118\n",
       "8.0       76\n",
       "Name: SCNTMEL1, dtype: int64"
      ]
     },
     "execution_count": 15,
     "metadata": {},
     "output_type": "execute_result"
    }
   ],
   "source": [
    "data['SCNTMEL1'].value_counts()"
   ]
  },
  {
   "cell_type": "code",
   "execution_count": 74,
   "id": "c1e94f81",
   "metadata": {},
   "outputs": [
    {
     "data": {
      "text/plain": [
       "Never        48822\n",
       "Rarely        8850\n",
       "Sometimes     8807\n",
       "Always        4121\n",
       "Usually       2442\n",
       "Name: SCNTMEL1, dtype: int64"
      ]
     },
     "execution_count": 74,
     "metadata": {},
     "output_type": "execute_result"
    }
   ],
   "source": [
    "values = {1: 'Always', \n",
    "          2: 'Usually',\n",
    "          3: 'Sometimes',\n",
    "          4: 'Rarely',\n",
    "          5: 'Never',\n",
    "          7: np.nan,\n",
    "          8: np.nan,\n",
    "          9: np.nan\n",
    "         }\n",
    "\n",
    "data['SCNTMEL1'] = data['SCNTMEL1'].replace(values)\n",
    "data['SCNTMEL1'].value_counts()"
   ]
  },
  {
   "cell_type": "code",
   "execution_count": 14,
   "id": "48c9fbf3",
   "metadata": {},
   "outputs": [
    {
     "data": {
      "text/plain": [
       "40.0    11045\n",
       "50.0     4490\n",
       "45.0     2499\n",
       "60.0     2426\n",
       "30.0     1656\n",
       "        ...  \n",
       "73.0        1\n",
       "89.0        1\n",
       "81.0        1\n",
       "59.0        1\n",
       "93.0        1\n",
       "Name: SCNTWRK1, Length: 96, dtype: int64"
      ]
     },
     "execution_count": 14,
     "metadata": {},
     "output_type": "execute_result"
    }
   ],
   "source": [
    "data['SCNTWRK1'].value_counts()"
   ]
  },
  {
   "cell_type": "code",
   "execution_count": 76,
   "id": "8fb51bb5",
   "metadata": {},
   "outputs": [
    {
     "data": {
      "text/plain": [
       "40.0    11045\n",
       "50.0     4490\n",
       "45.0     2499\n",
       "60.0     2426\n",
       "30.0     1656\n",
       "        ...  \n",
       "73.0        1\n",
       "89.0        1\n",
       "81.0        1\n",
       "59.0        1\n",
       "93.0        1\n",
       "Name: SCNTWRK1, Length: 93, dtype: int64"
      ]
     },
     "execution_count": 76,
     "metadata": {},
     "output_type": "execute_result"
    }
   ],
   "source": [
    "values = {97 : np.nan,\n",
    "          98 : np.nan,\n",
    "          99 : np.nan}\n",
    "\n",
    "data['SCNTWRK1'] = data['SCNTWRK1'].replace(values)\n",
    "data['SCNTWRK1'].value_counts()"
   ]
  },
  {
   "cell_type": "code",
   "execution_count": 19,
   "id": "93bcd220",
   "metadata": {},
   "outputs": [
    {
     "data": {
      "text/plain": [
       "1.0    157199\n",
       "9.0      2951\n",
       "3.0      2265\n",
       "2.0      2242\n",
       "7.0      1759\n",
       "4.0       581\n",
       "Name: SXORIENT, dtype: int64"
      ]
     },
     "execution_count": 19,
     "metadata": {},
     "output_type": "execute_result"
    }
   ],
   "source": [
    "data['SXORIENT'].value_counts()"
   ]
  },
  {
   "cell_type": "code",
   "execution_count": 77,
   "id": "7c57947e",
   "metadata": {},
   "outputs": [
    {
     "data": {
      "text/plain": [
       "Straight          157199\n",
       "Bisexual            2265\n",
       "Lesbian or gay      2242\n",
       "Other                581\n",
       "Name: SXORIENT, dtype: int64"
      ]
     },
     "execution_count": 77,
     "metadata": {},
     "output_type": "execute_result"
    }
   ],
   "source": [
    "values = {1: 'Straight', \n",
    "          2: 'Lesbian or gay',\n",
    "          3: 'Bisexual',\n",
    "          4: 'Other',\n",
    "          7: np.nan,\n",
    "          9: np.nan\n",
    "         }\n",
    "\n",
    "data['SXORIENT'] = data['SXORIENT'].replace(values)\n",
    "data['SXORIENT'].value_counts()"
   ]
  },
  {
   "cell_type": "code",
   "execution_count": 20,
   "id": "d940bbc2",
   "metadata": {},
   "outputs": [
    {
     "data": {
      "text/plain": [
       "4.0    163685\n",
       "9.0      1524\n",
       "7.0       946\n",
       "1.0       361\n",
       "2.0       237\n",
       "3.0       154\n",
       "Name: TRNSGNDR, dtype: int64"
      ]
     },
     "execution_count": 20,
     "metadata": {},
     "output_type": "execute_result"
    }
   ],
   "source": [
    "data['TRNSGNDR'].value_counts()"
   ]
  },
  {
   "cell_type": "code",
   "execution_count": 79,
   "id": "34360641",
   "metadata": {},
   "outputs": [
    {
     "data": {
      "text/plain": [
       "No                                        163685\n",
       "Yes, Transgender, male-to-female             361\n",
       "Yes, Transgender, female to male             237\n",
       "Yes, Transgender, gender nonconforming       154\n",
       "Name: TRNSGNDR, dtype: int64"
      ]
     },
     "execution_count": 79,
     "metadata": {},
     "output_type": "execute_result"
    }
   ],
   "source": [
    "values = {1: 'Yes, Transgender, male-to-female', \n",
    "          2: 'Yes, Transgender, female to male',\n",
    "          3: 'Yes, Transgender, gender nonconforming',\n",
    "          4: 'No',\n",
    "          7: np.nan,\n",
    "          9: np.nan\n",
    "         }\n",
    "\n",
    "data['TRNSGNDR'] = data['TRNSGNDR'].replace(values)\n",
    "data['TRNSGNDR'].value_counts()"
   ]
  },
  {
   "cell_type": "code",
   "execution_count": 21,
   "id": "89c9dacf",
   "metadata": {},
   "outputs": [
    {
     "data": {
      "text/plain": [
       "1.0    10748\n",
       "2.0     5632\n",
       "3.0     2065\n",
       "5.0      692\n",
       "4.0      596\n",
       "7.0      232\n",
       "9.0       99\n",
       "Name: EMTSUPRT, dtype: int64"
      ]
     },
     "execution_count": 21,
     "metadata": {},
     "output_type": "execute_result"
    }
   ],
   "source": [
    "data['EMTSUPRT'].value_counts()"
   ]
  },
  {
   "cell_type": "code",
   "execution_count": 80,
   "id": "44cf64f6",
   "metadata": {},
   "outputs": [
    {
     "data": {
      "text/plain": [
       "Always       10748\n",
       "Usually       5632\n",
       "Sometimes     2065\n",
       "Never          692\n",
       "Rarely         596\n",
       "Name: EMTSUPRT, dtype: int64"
      ]
     },
     "execution_count": 80,
     "metadata": {},
     "output_type": "execute_result"
    }
   ],
   "source": [
    "values = {1: 'Always', \n",
    "          2: 'Usually',\n",
    "          3: 'Sometimes',\n",
    "          4: 'Rarely',\n",
    "          5: 'Never',\n",
    "          7: np.nan,\n",
    "          9: np.nan\n",
    "         }\n",
    "\n",
    "data['EMTSUPRT'] = data['EMTSUPRT'].replace(values)\n",
    "data['EMTSUPRT'].value_counts()"
   ]
  },
  {
   "cell_type": "code",
   "execution_count": 22,
   "id": "f85a9575",
   "metadata": {},
   "outputs": [
    {
     "data": {
      "text/plain": [
       "2.0    9721\n",
       "1.0    9066\n",
       "3.0     827\n",
       "4.0     224\n",
       "7.0     133\n",
       "9.0      81\n",
       "Name: LSATISFY, dtype: int64"
      ]
     },
     "execution_count": 22,
     "metadata": {},
     "output_type": "execute_result"
    }
   ],
   "source": [
    "data['LSATISFY'].value_counts()"
   ]
  },
  {
   "cell_type": "code",
   "execution_count": 81,
   "id": "888d75f2",
   "metadata": {},
   "outputs": [
    {
     "data": {
      "text/plain": [
       "Satisfied            9721\n",
       "Very satisfied       9066\n",
       "Dissatisfied          827\n",
       "Very dissatisfied     224\n",
       "Name: LSATISFY, dtype: int64"
      ]
     },
     "execution_count": 81,
     "metadata": {},
     "output_type": "execute_result"
    }
   ],
   "source": [
    "values = {1: 'Very satisfied', \n",
    "          2: 'Satisfied',\n",
    "          3: 'Dissatisfied',\n",
    "          4: 'Very dissatisfied',\n",
    "          7: np.nan,\n",
    "          9: np.nan\n",
    "         }\n",
    "\n",
    "data['LSATISFY'] = data['LSATISFY'].replace(values)\n",
    "data['LSATISFY'].value_counts()"
   ]
  },
  {
   "cell_type": "code",
   "execution_count": 23,
   "id": "b9d19c77",
   "metadata": {},
   "outputs": [
    {
     "data": {
      "text/plain": [
       "88.0    13663\n",
       "2.0      1363\n",
       "14.0     1148\n",
       "1.0       825\n",
       "3.0       635\n",
       "77.0      594\n",
       "7.0       465\n",
       "4.0       444\n",
       "5.0       438\n",
       "10.0      344\n",
       "6.0       140\n",
       "99.0      119\n",
       "8.0       111\n",
       "12.0       95\n",
       "9.0        37\n",
       "13.0       17\n",
       "11.0        7\n",
       "Name: ADPLEASR, dtype: int64"
      ]
     },
     "execution_count": 23,
     "metadata": {},
     "output_type": "execute_result"
    }
   ],
   "source": [
    "data['ADPLEASR'].value_counts()"
   ]
  },
  {
   "cell_type": "code",
   "execution_count": 82,
   "id": "a2a92973",
   "metadata": {
    "scrolled": true
   },
   "outputs": [
    {
     "data": {
      "text/plain": [
       "2.0     1363\n",
       "14.0    1148\n",
       "1.0      825\n",
       "3.0      635\n",
       "7.0      465\n",
       "4.0      444\n",
       "5.0      438\n",
       "10.0     344\n",
       "6.0      140\n",
       "8.0      111\n",
       "12.0      95\n",
       "9.0       37\n",
       "13.0      17\n",
       "11.0       7\n",
       "Name: ADPLEASR, dtype: int64"
      ]
     },
     "execution_count": 82,
     "metadata": {},
     "output_type": "execute_result"
    }
   ],
   "source": [
    "values = {88: np.nan,\n",
    "          99: np.nan,\n",
    "          77: np.nan\n",
    "         }\n",
    "\n",
    "data['ADPLEASR'] = data['ADPLEASR'].replace(values)\n",
    "data['ADPLEASR'].value_counts()"
   ]
  },
  {
   "cell_type": "code",
   "execution_count": 24,
   "id": "ad32ec56",
   "metadata": {},
   "outputs": [
    {
     "data": {
      "text/plain": [
       "88.0    10788\n",
       "14.0     3192\n",
       "2.0      1368\n",
       "3.0       949\n",
       "1.0       763\n",
       "4.0       678\n",
       "5.0       615\n",
       "7.0       590\n",
       "10.0      477\n",
       "6.0       273\n",
       "77.0      256\n",
       "8.0       175\n",
       "12.0      140\n",
       "99.0       58\n",
       "13.0       50\n",
       "9.0        36\n",
       "11.0       11\n",
       "Name: ADSLEEP, dtype: int64"
      ]
     },
     "execution_count": 24,
     "metadata": {},
     "output_type": "execute_result"
    }
   ],
   "source": [
    "data['ADSLEEP'].value_counts()"
   ]
  },
  {
   "cell_type": "code",
   "execution_count": 83,
   "id": "1e8d6a20",
   "metadata": {},
   "outputs": [
    {
     "data": {
      "text/plain": [
       "14.0    3192\n",
       "2.0     1368\n",
       "3.0      949\n",
       "1.0      763\n",
       "4.0      678\n",
       "5.0      615\n",
       "7.0      590\n",
       "10.0     477\n",
       "6.0      273\n",
       "8.0      175\n",
       "12.0     140\n",
       "13.0      50\n",
       "9.0       36\n",
       "11.0      11\n",
       "Name: ADSLEEP, dtype: int64"
      ]
     },
     "execution_count": 83,
     "metadata": {},
     "output_type": "execute_result"
    }
   ],
   "source": [
    "values = {88: np.nan,\n",
    "          99: np.nan,\n",
    "          77: np.nan\n",
    "         }\n",
    "\n",
    "data['ADSLEEP'] = data['ADSLEEP'].replace(values)\n",
    "data['ADSLEEP'].value_counts()"
   ]
  },
  {
   "cell_type": "code",
   "execution_count": 26,
   "id": "da2f119b",
   "metadata": {},
   "outputs": [
    {
     "data": {
      "text/plain": [
       "88.0    7776\n",
       "14.0    3522\n",
       "2.0     2383\n",
       "3.0     1324\n",
       "1.0     1190\n",
       "5.0      873\n",
       "4.0      853\n",
       "7.0      775\n",
       "10.0     586\n",
       "77.0     339\n",
       "6.0      289\n",
       "8.0      196\n",
       "12.0     151\n",
       "99.0      66\n",
       "13.0      39\n",
       "9.0       38\n",
       "11.0      13\n",
       "Name: ADENERGY, dtype: int64"
      ]
     },
     "execution_count": 26,
     "metadata": {},
     "output_type": "execute_result"
    }
   ],
   "source": [
    "data['ADENERGY'].value_counts()"
   ]
  },
  {
   "cell_type": "code",
   "execution_count": 84,
   "id": "793e6363",
   "metadata": {},
   "outputs": [
    {
     "data": {
      "text/plain": [
       "14.0    3522\n",
       "2.0     2383\n",
       "3.0     1324\n",
       "1.0     1190\n",
       "5.0      873\n",
       "4.0      853\n",
       "7.0      775\n",
       "10.0     586\n",
       "6.0      289\n",
       "8.0      196\n",
       "12.0     151\n",
       "13.0      39\n",
       "9.0       38\n",
       "11.0      13\n",
       "Name: ADENERGY, dtype: int64"
      ]
     },
     "execution_count": 84,
     "metadata": {},
     "output_type": "execute_result"
    }
   ],
   "source": [
    "values = {88: np.nan,\n",
    "          99: np.nan,\n",
    "          77: np.nan\n",
    "         }\n",
    "\n",
    "data['ADENERGY'] = data['ADENERGY'].replace(values)\n",
    "data['ADENERGY'].value_counts()"
   ]
  },
  {
   "cell_type": "code",
   "execution_count": 85,
   "id": "305a07dd",
   "metadata": {
    "scrolled": true
   },
   "outputs": [
    {
     "data": {
      "text/plain": [
       "88.0    12998\n",
       "14.0     1832\n",
       "2.0      1285\n",
       "1.0       821\n",
       "3.0       803\n",
       "5.0       571\n",
       "4.0       511\n",
       "7.0       497\n",
       "10.0      332\n",
       "77.0      302\n",
       "6.0       194\n",
       "8.0       103\n",
       "99.0       58\n",
       "12.0       57\n",
       "9.0        18\n",
       "13.0       14\n",
       "11.0        6\n",
       "Name: ADEAT1, dtype: int64"
      ]
     },
     "execution_count": 85,
     "metadata": {},
     "output_type": "execute_result"
    }
   ],
   "source": [
    "data['ADEAT1'].value_counts()"
   ]
  },
  {
   "cell_type": "code",
   "execution_count": 86,
   "id": "f7ee1541",
   "metadata": {},
   "outputs": [
    {
     "data": {
      "text/plain": [
       "14.0    1832\n",
       "2.0     1285\n",
       "1.0      821\n",
       "3.0      803\n",
       "5.0      571\n",
       "4.0      511\n",
       "7.0      497\n",
       "10.0     332\n",
       "6.0      194\n",
       "8.0      103\n",
       "12.0      57\n",
       "9.0       18\n",
       "13.0      14\n",
       "11.0       6\n",
       "Name: ADEAT1, dtype: int64"
      ]
     },
     "execution_count": 86,
     "metadata": {},
     "output_type": "execute_result"
    }
   ],
   "source": [
    "values = {88: np.nan,\n",
    "          99: np.nan,\n",
    "          77: np.nan\n",
    "         }\n",
    "\n",
    "data['ADEAT1'] = data['ADEAT1'].replace(values)\n",
    "data['ADEAT1'].value_counts()"
   ]
  },
  {
   "cell_type": "code",
   "execution_count": null,
   "id": "7cbd2309",
   "metadata": {},
   "outputs": [],
   "source": [
    "data['ADFAIL'].value_counts()"
   ]
  },
  {
   "cell_type": "code",
   "execution_count": 87,
   "id": "d0afdbbc",
   "metadata": {},
   "outputs": [
    {
     "data": {
      "text/plain": [
       "14.0    974\n",
       "2.0     637\n",
       "1.0     565\n",
       "3.0     311\n",
       "7.0     225\n",
       "5.0     216\n",
       "4.0     185\n",
       "10.0    170\n",
       "8.0      72\n",
       "6.0      70\n",
       "12.0     31\n",
       "9.0       9\n",
       "11.0      7\n",
       "13.0      6\n",
       "Name: ADFAIL, dtype: int64"
      ]
     },
     "execution_count": 87,
     "metadata": {},
     "output_type": "execute_result"
    }
   ],
   "source": [
    "values = {88: np.nan,\n",
    "          99: np.nan,\n",
    "          77: np.nan\n",
    "         }\n",
    "\n",
    "data['ADFAIL'] = data['ADFAIL'].replace(values)\n",
    "data['ADFAIL'].value_counts()"
   ]
  },
  {
   "cell_type": "code",
   "execution_count": null,
   "id": "ed5a5847",
   "metadata": {},
   "outputs": [],
   "source": [
    "data['ADTHINK'].value_counts()"
   ]
  },
  {
   "cell_type": "code",
   "execution_count": 88,
   "id": "905b06af",
   "metadata": {},
   "outputs": [
    {
     "data": {
      "text/plain": [
       "14.0    850\n",
       "2.0     572\n",
       "1.0     292\n",
       "3.0     274\n",
       "7.0     252\n",
       "5.0     229\n",
       "4.0     215\n",
       "10.0    126\n",
       "6.0      70\n",
       "8.0      56\n",
       "12.0     38\n",
       "9.0      13\n",
       "13.0      8\n",
       "11.0      3\n",
       "Name: ADTHINK, dtype: int64"
      ]
     },
     "execution_count": 88,
     "metadata": {},
     "output_type": "execute_result"
    }
   ],
   "source": [
    "values = {88: np.nan,\n",
    "          99: np.nan,\n",
    "          77: np.nan\n",
    "         }\n",
    "\n",
    "data['ADTHINK'] = data['ADTHINK'].replace(values)\n",
    "data['ADTHINK'].value_counts()"
   ]
  },
  {
   "cell_type": "code",
   "execution_count": null,
   "id": "3f004185",
   "metadata": {},
   "outputs": [],
   "source": [
    "data['MISTMNT'].value_counts()"
   ]
  },
  {
   "cell_type": "code",
   "execution_count": 90,
   "id": "faf9bcd4",
   "metadata": {},
   "outputs": [
    {
     "data": {
      "text/plain": [
       "0.0    17273\n",
       "1.0     2989\n",
       "Name: MISTMNT, dtype: int64"
      ]
     },
     "execution_count": 90,
     "metadata": {},
     "output_type": "execute_result"
    }
   ],
   "source": [
    "values = {1: 1,\n",
    "          2 : 0,\n",
    "          7: np.nan,\n",
    "          9: np.nan\n",
    "         }\n",
    "\n",
    "data['MISTMNT'] = data['MISTMNT'].replace(values)\n",
    "data['MISTMNT'].value_counts()"
   ]
  },
  {
   "cell_type": "code",
   "execution_count": 27,
   "id": "bee2fb58",
   "metadata": {
    "scrolled": true
   },
   "outputs": [
    {
     "data": {
      "text/plain": [
       "2.0    16919\n",
       "1.0     3294\n",
       "7.0       91\n",
       "9.0       38\n",
       "Name: ADANXEV, dtype: int64"
      ]
     },
     "execution_count": 27,
     "metadata": {},
     "output_type": "execute_result"
    }
   ],
   "source": [
    "data['ADANXEV'].value_counts()"
   ]
  },
  {
   "cell_type": "code",
   "execution_count": 92,
   "id": "08a849f9",
   "metadata": {
    "scrolled": true
   },
   "outputs": [
    {
     "data": {
      "text/plain": [
       "0.0    16919\n",
       "1.0     3294\n",
       "Name: ADANXEV, dtype: int64"
      ]
     },
     "execution_count": 92,
     "metadata": {},
     "output_type": "execute_result"
    }
   ],
   "source": [
    "values = {1: 1,\n",
    "          2 : 0,\n",
    "          7: np.nan,\n",
    "          9: np.nan\n",
    "         }\n",
    "\n",
    "data['ADANXEV'] = data['ADANXEV'].replace(values)\n",
    "data['ADANXEV'].value_counts()"
   ]
  },
  {
   "cell_type": "code",
   "execution_count": null,
   "id": "579b03b9",
   "metadata": {},
   "outputs": [],
   "source": []
  },
  {
   "cell_type": "code",
   "execution_count": null,
   "id": "9e9188c9",
   "metadata": {},
   "outputs": [],
   "source": []
  }
 ],
 "metadata": {
  "kernelspec": {
   "display_name": "Python 3 (ipykernel)",
   "language": "python",
   "name": "python3"
  },
  "language_info": {
   "codemirror_mode": {
    "name": "ipython",
    "version": 3
   },
   "file_extension": ".py",
   "mimetype": "text/x-python",
   "name": "python",
   "nbconvert_exporter": "python",
   "pygments_lexer": "ipython3",
   "version": "3.9.13"
  }
 },
 "nbformat": 4,
 "nbformat_minor": 5
}
