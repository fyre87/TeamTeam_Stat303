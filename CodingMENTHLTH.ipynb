{
 "cells": [
  {
   "cell_type": "code",
   "execution_count": 2,
   "id": "8e512865",
   "metadata": {},
   "outputs": [],
   "source": [
    "import pandas as pd"
   ]
  },
  {
   "cell_type": "markdown",
   "id": "aaf17350",
   "metadata": {},
   "source": [
    "codebook : https://www.cdc.gov/brfss/annual_data/2015/pdf/codebook15_llcp.pdf"
   ]
  },
  {
   "cell_type": "code",
   "execution_count": 3,
   "id": "e5f7677e",
   "metadata": {},
   "outputs": [
    {
     "data": {
      "text/html": [
       "<div>\n",
       "<style scoped>\n",
       "    .dataframe tbody tr th:only-of-type {\n",
       "        vertical-align: middle;\n",
       "    }\n",
       "\n",
       "    .dataframe tbody tr th {\n",
       "        vertical-align: top;\n",
       "    }\n",
       "\n",
       "    .dataframe thead th {\n",
       "        text-align: right;\n",
       "    }\n",
       "</style>\n",
       "<table border=\"1\" class=\"dataframe\">\n",
       "  <thead>\n",
       "    <tr style=\"text-align: right;\">\n",
       "      <th></th>\n",
       "      <th>_STATE</th>\n",
       "      <th>FMONTH</th>\n",
       "      <th>IDATE</th>\n",
       "      <th>IMONTH</th>\n",
       "      <th>IDAY</th>\n",
       "      <th>IYEAR</th>\n",
       "      <th>DISPCODE</th>\n",
       "      <th>SEQNO</th>\n",
       "      <th>_PSU</th>\n",
       "      <th>CTELENUM</th>\n",
       "      <th>...</th>\n",
       "      <th>_PAREC1</th>\n",
       "      <th>_PASTAE1</th>\n",
       "      <th>_LMTACT1</th>\n",
       "      <th>_LMTWRK1</th>\n",
       "      <th>_LMTSCL1</th>\n",
       "      <th>_RFSEAT2</th>\n",
       "      <th>_RFSEAT3</th>\n",
       "      <th>_FLSHOT6</th>\n",
       "      <th>_PNEUMO2</th>\n",
       "      <th>_AIDTST3</th>\n",
       "    </tr>\n",
       "  </thead>\n",
       "  <tbody>\n",
       "    <tr>\n",
       "      <th>0</th>\n",
       "      <td>1.0</td>\n",
       "      <td>1.0</td>\n",
       "      <td>b'01292015'</td>\n",
       "      <td>b'01'</td>\n",
       "      <td>b'29'</td>\n",
       "      <td>b'2015'</td>\n",
       "      <td>1200.0</td>\n",
       "      <td>2.015000e+09</td>\n",
       "      <td>2.015000e+09</td>\n",
       "      <td>1.0</td>\n",
       "      <td>...</td>\n",
       "      <td>4.0</td>\n",
       "      <td>2.0</td>\n",
       "      <td>1.0</td>\n",
       "      <td>1.0</td>\n",
       "      <td>1.0</td>\n",
       "      <td>1.0</td>\n",
       "      <td>1.0</td>\n",
       "      <td>NaN</td>\n",
       "      <td>NaN</td>\n",
       "      <td>1.0</td>\n",
       "    </tr>\n",
       "    <tr>\n",
       "      <th>1</th>\n",
       "      <td>1.0</td>\n",
       "      <td>1.0</td>\n",
       "      <td>b'01202015'</td>\n",
       "      <td>b'01'</td>\n",
       "      <td>b'20'</td>\n",
       "      <td>b'2015'</td>\n",
       "      <td>1100.0</td>\n",
       "      <td>2.015000e+09</td>\n",
       "      <td>2.015000e+09</td>\n",
       "      <td>1.0</td>\n",
       "      <td>...</td>\n",
       "      <td>2.0</td>\n",
       "      <td>2.0</td>\n",
       "      <td>3.0</td>\n",
       "      <td>3.0</td>\n",
       "      <td>4.0</td>\n",
       "      <td>2.0</td>\n",
       "      <td>2.0</td>\n",
       "      <td>NaN</td>\n",
       "      <td>NaN</td>\n",
       "      <td>2.0</td>\n",
       "    </tr>\n",
       "    <tr>\n",
       "      <th>2</th>\n",
       "      <td>1.0</td>\n",
       "      <td>1.0</td>\n",
       "      <td>b'02012015'</td>\n",
       "      <td>b'02'</td>\n",
       "      <td>b'01'</td>\n",
       "      <td>b'2015'</td>\n",
       "      <td>1200.0</td>\n",
       "      <td>2.015000e+09</td>\n",
       "      <td>2.015000e+09</td>\n",
       "      <td>1.0</td>\n",
       "      <td>...</td>\n",
       "      <td>9.0</td>\n",
       "      <td>9.0</td>\n",
       "      <td>9.0</td>\n",
       "      <td>9.0</td>\n",
       "      <td>9.0</td>\n",
       "      <td>9.0</td>\n",
       "      <td>9.0</td>\n",
       "      <td>9.0</td>\n",
       "      <td>9.0</td>\n",
       "      <td>NaN</td>\n",
       "    </tr>\n",
       "    <tr>\n",
       "      <th>3</th>\n",
       "      <td>1.0</td>\n",
       "      <td>1.0</td>\n",
       "      <td>b'01142015'</td>\n",
       "      <td>b'01'</td>\n",
       "      <td>b'14'</td>\n",
       "      <td>b'2015'</td>\n",
       "      <td>1100.0</td>\n",
       "      <td>2.015000e+09</td>\n",
       "      <td>2.015000e+09</td>\n",
       "      <td>1.0</td>\n",
       "      <td>...</td>\n",
       "      <td>4.0</td>\n",
       "      <td>2.0</td>\n",
       "      <td>1.0</td>\n",
       "      <td>1.0</td>\n",
       "      <td>1.0</td>\n",
       "      <td>1.0</td>\n",
       "      <td>1.0</td>\n",
       "      <td>NaN</td>\n",
       "      <td>NaN</td>\n",
       "      <td>9.0</td>\n",
       "    </tr>\n",
       "    <tr>\n",
       "      <th>4</th>\n",
       "      <td>1.0</td>\n",
       "      <td>1.0</td>\n",
       "      <td>b'01142015'</td>\n",
       "      <td>b'01'</td>\n",
       "      <td>b'14'</td>\n",
       "      <td>b'2015'</td>\n",
       "      <td>1100.0</td>\n",
       "      <td>2.015000e+09</td>\n",
       "      <td>2.015000e+09</td>\n",
       "      <td>1.0</td>\n",
       "      <td>...</td>\n",
       "      <td>4.0</td>\n",
       "      <td>2.0</td>\n",
       "      <td>1.0</td>\n",
       "      <td>1.0</td>\n",
       "      <td>1.0</td>\n",
       "      <td>1.0</td>\n",
       "      <td>1.0</td>\n",
       "      <td>NaN</td>\n",
       "      <td>NaN</td>\n",
       "      <td>1.0</td>\n",
       "    </tr>\n",
       "    <tr>\n",
       "      <th>...</th>\n",
       "      <td>...</td>\n",
       "      <td>...</td>\n",
       "      <td>...</td>\n",
       "      <td>...</td>\n",
       "      <td>...</td>\n",
       "      <td>...</td>\n",
       "      <td>...</td>\n",
       "      <td>...</td>\n",
       "      <td>...</td>\n",
       "      <td>...</td>\n",
       "      <td>...</td>\n",
       "      <td>...</td>\n",
       "      <td>...</td>\n",
       "      <td>...</td>\n",
       "      <td>...</td>\n",
       "      <td>...</td>\n",
       "      <td>...</td>\n",
       "      <td>...</td>\n",
       "      <td>...</td>\n",
       "      <td>...</td>\n",
       "      <td>...</td>\n",
       "    </tr>\n",
       "    <tr>\n",
       "      <th>441451</th>\n",
       "      <td>72.0</td>\n",
       "      <td>11.0</td>\n",
       "      <td>b'12162015'</td>\n",
       "      <td>b'12'</td>\n",
       "      <td>b'16'</td>\n",
       "      <td>b'2015'</td>\n",
       "      <td>1100.0</td>\n",
       "      <td>2.015005e+09</td>\n",
       "      <td>2.015005e+09</td>\n",
       "      <td>NaN</td>\n",
       "      <td>...</td>\n",
       "      <td>4.0</td>\n",
       "      <td>2.0</td>\n",
       "      <td>2.0</td>\n",
       "      <td>2.0</td>\n",
       "      <td>3.0</td>\n",
       "      <td>1.0</td>\n",
       "      <td>1.0</td>\n",
       "      <td>2.0</td>\n",
       "      <td>2.0</td>\n",
       "      <td>2.0</td>\n",
       "    </tr>\n",
       "    <tr>\n",
       "      <th>441452</th>\n",
       "      <td>72.0</td>\n",
       "      <td>11.0</td>\n",
       "      <td>b'12142015'</td>\n",
       "      <td>b'12'</td>\n",
       "      <td>b'14'</td>\n",
       "      <td>b'2015'</td>\n",
       "      <td>1100.0</td>\n",
       "      <td>2.015005e+09</td>\n",
       "      <td>2.015005e+09</td>\n",
       "      <td>NaN</td>\n",
       "      <td>...</td>\n",
       "      <td>2.0</td>\n",
       "      <td>2.0</td>\n",
       "      <td>3.0</td>\n",
       "      <td>3.0</td>\n",
       "      <td>4.0</td>\n",
       "      <td>1.0</td>\n",
       "      <td>1.0</td>\n",
       "      <td>NaN</td>\n",
       "      <td>NaN</td>\n",
       "      <td>1.0</td>\n",
       "    </tr>\n",
       "    <tr>\n",
       "      <th>441453</th>\n",
       "      <td>72.0</td>\n",
       "      <td>11.0</td>\n",
       "      <td>b'12232015'</td>\n",
       "      <td>b'12'</td>\n",
       "      <td>b'23'</td>\n",
       "      <td>b'2015'</td>\n",
       "      <td>1200.0</td>\n",
       "      <td>2.015005e+09</td>\n",
       "      <td>2.015005e+09</td>\n",
       "      <td>NaN</td>\n",
       "      <td>...</td>\n",
       "      <td>9.0</td>\n",
       "      <td>9.0</td>\n",
       "      <td>3.0</td>\n",
       "      <td>3.0</td>\n",
       "      <td>4.0</td>\n",
       "      <td>9.0</td>\n",
       "      <td>9.0</td>\n",
       "      <td>9.0</td>\n",
       "      <td>9.0</td>\n",
       "      <td>NaN</td>\n",
       "    </tr>\n",
       "    <tr>\n",
       "      <th>441454</th>\n",
       "      <td>72.0</td>\n",
       "      <td>11.0</td>\n",
       "      <td>b'12152015'</td>\n",
       "      <td>b'12'</td>\n",
       "      <td>b'15'</td>\n",
       "      <td>b'2015'</td>\n",
       "      <td>1100.0</td>\n",
       "      <td>2.015005e+09</td>\n",
       "      <td>2.015005e+09</td>\n",
       "      <td>NaN</td>\n",
       "      <td>...</td>\n",
       "      <td>4.0</td>\n",
       "      <td>2.0</td>\n",
       "      <td>3.0</td>\n",
       "      <td>3.0</td>\n",
       "      <td>4.0</td>\n",
       "      <td>1.0</td>\n",
       "      <td>1.0</td>\n",
       "      <td>NaN</td>\n",
       "      <td>NaN</td>\n",
       "      <td>2.0</td>\n",
       "    </tr>\n",
       "    <tr>\n",
       "      <th>441455</th>\n",
       "      <td>72.0</td>\n",
       "      <td>11.0</td>\n",
       "      <td>b'12152015'</td>\n",
       "      <td>b'12'</td>\n",
       "      <td>b'15'</td>\n",
       "      <td>b'2015'</td>\n",
       "      <td>1100.0</td>\n",
       "      <td>2.015005e+09</td>\n",
       "      <td>2.015005e+09</td>\n",
       "      <td>NaN</td>\n",
       "      <td>...</td>\n",
       "      <td>4.0</td>\n",
       "      <td>2.0</td>\n",
       "      <td>3.0</td>\n",
       "      <td>3.0</td>\n",
       "      <td>4.0</td>\n",
       "      <td>1.0</td>\n",
       "      <td>1.0</td>\n",
       "      <td>NaN</td>\n",
       "      <td>NaN</td>\n",
       "      <td>1.0</td>\n",
       "    </tr>\n",
       "  </tbody>\n",
       "</table>\n",
       "<p>441456 rows × 330 columns</p>\n",
       "</div>"
      ],
      "text/plain": [
       "        _STATE  FMONTH        IDATE IMONTH   IDAY    IYEAR  DISPCODE  \\\n",
       "0          1.0     1.0  b'01292015'  b'01'  b'29'  b'2015'    1200.0   \n",
       "1          1.0     1.0  b'01202015'  b'01'  b'20'  b'2015'    1100.0   \n",
       "2          1.0     1.0  b'02012015'  b'02'  b'01'  b'2015'    1200.0   \n",
       "3          1.0     1.0  b'01142015'  b'01'  b'14'  b'2015'    1100.0   \n",
       "4          1.0     1.0  b'01142015'  b'01'  b'14'  b'2015'    1100.0   \n",
       "...        ...     ...          ...    ...    ...      ...       ...   \n",
       "441451    72.0    11.0  b'12162015'  b'12'  b'16'  b'2015'    1100.0   \n",
       "441452    72.0    11.0  b'12142015'  b'12'  b'14'  b'2015'    1100.0   \n",
       "441453    72.0    11.0  b'12232015'  b'12'  b'23'  b'2015'    1200.0   \n",
       "441454    72.0    11.0  b'12152015'  b'12'  b'15'  b'2015'    1100.0   \n",
       "441455    72.0    11.0  b'12152015'  b'12'  b'15'  b'2015'    1100.0   \n",
       "\n",
       "               SEQNO          _PSU  CTELENUM  ...  _PAREC1  _PASTAE1  \\\n",
       "0       2.015000e+09  2.015000e+09       1.0  ...      4.0       2.0   \n",
       "1       2.015000e+09  2.015000e+09       1.0  ...      2.0       2.0   \n",
       "2       2.015000e+09  2.015000e+09       1.0  ...      9.0       9.0   \n",
       "3       2.015000e+09  2.015000e+09       1.0  ...      4.0       2.0   \n",
       "4       2.015000e+09  2.015000e+09       1.0  ...      4.0       2.0   \n",
       "...              ...           ...       ...  ...      ...       ...   \n",
       "441451  2.015005e+09  2.015005e+09       NaN  ...      4.0       2.0   \n",
       "441452  2.015005e+09  2.015005e+09       NaN  ...      2.0       2.0   \n",
       "441453  2.015005e+09  2.015005e+09       NaN  ...      9.0       9.0   \n",
       "441454  2.015005e+09  2.015005e+09       NaN  ...      4.0       2.0   \n",
       "441455  2.015005e+09  2.015005e+09       NaN  ...      4.0       2.0   \n",
       "\n",
       "        _LMTACT1  _LMTWRK1  _LMTSCL1  _RFSEAT2  _RFSEAT3  _FLSHOT6  _PNEUMO2  \\\n",
       "0            1.0       1.0       1.0       1.0       1.0       NaN       NaN   \n",
       "1            3.0       3.0       4.0       2.0       2.0       NaN       NaN   \n",
       "2            9.0       9.0       9.0       9.0       9.0       9.0       9.0   \n",
       "3            1.0       1.0       1.0       1.0       1.0       NaN       NaN   \n",
       "4            1.0       1.0       1.0       1.0       1.0       NaN       NaN   \n",
       "...          ...       ...       ...       ...       ...       ...       ...   \n",
       "441451       2.0       2.0       3.0       1.0       1.0       2.0       2.0   \n",
       "441452       3.0       3.0       4.0       1.0       1.0       NaN       NaN   \n",
       "441453       3.0       3.0       4.0       9.0       9.0       9.0       9.0   \n",
       "441454       3.0       3.0       4.0       1.0       1.0       NaN       NaN   \n",
       "441455       3.0       3.0       4.0       1.0       1.0       NaN       NaN   \n",
       "\n",
       "        _AIDTST3  \n",
       "0            1.0  \n",
       "1            2.0  \n",
       "2            NaN  \n",
       "3            9.0  \n",
       "4            1.0  \n",
       "...          ...  \n",
       "441451       2.0  \n",
       "441452       1.0  \n",
       "441453       NaN  \n",
       "441454       2.0  \n",
       "441455       1.0  \n",
       "\n",
       "[441456 rows x 330 columns]"
      ]
     },
     "execution_count": 3,
     "metadata": {},
     "output_type": "execute_result"
    }
   ],
   "source": [
    "brfss = pd.read_csv('2015.csv')\n",
    "brfss"
   ]
  },
  {
   "cell_type": "code",
   "execution_count": 20,
   "id": "1b62ee7a",
   "metadata": {},
   "outputs": [
    {
     "data": {
      "text/plain": [
       "0         18.0\n",
       "1          0.0\n",
       "2          0.0\n",
       "3         30.0\n",
       "4          0.0\n",
       "          ... \n",
       "441451     0.0\n",
       "441452     0.0\n",
       "441453    20.0\n",
       "441454     0.0\n",
       "441455     0.0\n",
       "Name: MENTHLTH, Length: 441456, dtype: object"
      ]
     },
     "execution_count": 20,
     "metadata": {},
     "output_type": "execute_result"
    }
   ],
   "source": [
    "brfss['MENTHLTH']"
   ]
  },
  {
   "cell_type": "code",
   "execution_count": 5,
   "id": "1f314a65",
   "metadata": {},
   "outputs": [],
   "source": [
    "# replacing 88 with 0 because 88 means none (codebook)\n",
    "brfss.loc[(brfss.MENTHLTH == 88),'MENTHLTH']=0"
   ]
  },
  {
   "cell_type": "code",
   "execution_count": 7,
   "id": "5153adfd",
   "metadata": {},
   "outputs": [],
   "source": [
    "# replacing 77 and 99 with NA (codebook)\n",
    "brfss.loc[(brfss.MENTHLTH == 77),'MENTHLTH']= pd.NA\n",
    "brfss.loc[(brfss.MENTHLTH == 99),'MENTHLTH']= pd.NA"
   ]
  },
  {
   "cell_type": "code",
   "execution_count": null,
   "id": "9ae40879",
   "metadata": {},
   "outputs": [],
   "source": [
    "brfss['MENTHLTH']"
   ]
  },
  {
   "cell_type": "code",
   "execution_count": 13,
   "id": "798e9818",
   "metadata": {},
   "outputs": [
    {
     "data": {
      "text/plain": [
       "18.54709472332798"
      ]
     },
     "execution_count": 13,
     "metadata": {},
     "output_type": "execute_result"
    }
   ],
   "source": [
    "# finding 2 standard deviations above the mean\n",
    "brfss['MENTHLTH'].mean() + (2*(brfss['MENTHLTH'].std()))"
   ]
  },
  {
   "cell_type": "code",
   "execution_count": 35,
   "id": "90bd1d18",
   "metadata": {},
   "outputs": [],
   "source": [
    "# create new column with the people above 2 sd above the mean calssified as poor mental health,\n",
    "# and all others classified as not\n",
    "brfss['POOR_MENTHLTH'] = brfss['MENTHLTH']"
   ]
  },
  {
   "cell_type": "code",
   "execution_count": 39,
   "id": "ccef287a",
   "metadata": {},
   "outputs": [],
   "source": [
    "brfss.loc[(brfss.POOR_MENTHLTH >= 18.0),'POOR_MENTHLTH']=1"
   ]
  },
  {
   "cell_type": "code",
   "execution_count": 37,
   "id": "ae44d29f",
   "metadata": {},
   "outputs": [],
   "source": [
    "brfss.loc[(brfss.POOR_MENTHLTH <= 18.5),'POOR_MENTHLTH']=0"
   ]
  },
  {
   "cell_type": "code",
   "execution_count": 41,
   "id": "fdb94b82",
   "metadata": {
    "scrolled": true
   },
   "outputs": [
    {
     "data": {
      "text/plain": [
       "32051"
      ]
     },
     "execution_count": 41,
     "metadata": {},
     "output_type": "execute_result"
    }
   ],
   "source": [
    "brfss['POOR_MENTHLTH'].sum()"
   ]
  },
  {
   "cell_type": "code",
   "execution_count": 42,
   "id": "39cea77f",
   "metadata": {},
   "outputs": [
    {
     "data": {
      "text/plain": [
       "441456"
      ]
     },
     "execution_count": 42,
     "metadata": {},
     "output_type": "execute_result"
    }
   ],
   "source": [
    "len(brfss['POOR_MENTHLTH'])"
   ]
  },
  {
   "cell_type": "code",
   "execution_count": 43,
   "id": "4e01d1be",
   "metadata": {},
   "outputs": [
    {
     "data": {
      "text/plain": [
       "0.07260293211554493"
      ]
     },
     "execution_count": 43,
     "metadata": {},
     "output_type": "execute_result"
    }
   ],
   "source": [
    "32051/441456"
   ]
  },
  {
   "cell_type": "markdown",
   "id": "f3396507",
   "metadata": {},
   "source": [
    "There are 32,051 people with mental health poorer in the last 30 days than 2 standard deviations above the mean. There are 441,456 total observations. This is about 7% of the observations.  "
   ]
  },
  {
   "cell_type": "code",
   "execution_count": null,
   "id": "a1dbb5f6",
   "metadata": {},
   "outputs": [],
   "source": []
  }
 ],
 "metadata": {
  "kernelspec": {
   "display_name": "Python 3 (ipykernel)",
   "language": "python",
   "name": "python3"
  },
  "language_info": {
   "codemirror_mode": {
    "name": "ipython",
    "version": 3
   },
   "file_extension": ".py",
   "mimetype": "text/x-python",
   "name": "python",
   "nbconvert_exporter": "python",
   "pygments_lexer": "ipython3",
   "version": "3.9.12"
  }
 },
 "nbformat": 4,
 "nbformat_minor": 5
}
